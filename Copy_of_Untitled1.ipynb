{
  "cells": [
    {
      "cell_type": "code",
      "execution_count": null,
      "metadata": {
        "id": "G9s4hZjhv8Ux"
      },
      "outputs": [],
      "source": [
        "\n",
        "import numpy as np"
      ]
    },
    {
      "cell_type": "code",
      "execution_count": null,
      "metadata": {},
      "outputs": [],
      "source": []
    },
    {
      "cell_type": "code",
      "execution_count": null,
      "metadata": {
        "id": "-ujiHhaiwmmW"
      },
      "outputs": [],
      "source": [
        "import pandas as pd"
      ]
    },
    {
      "cell_type": "code",
      "execution_count": null,
      "metadata": {
        "id": "0qyGMfUQjB4r"
      },
      "outputs": [],
      "source": [
        "import numpy as np\n",
        "import pandas as pd\n",
        "import seaborn as sns\n",
        "import matplotlib.pyplot as plt\n",
        "from pandas.api.types import is_numeric_dtype\n",
        "from sklearn import tree\n",
        "from sklearn.model_selection import train_test_split\n",
        "from sklearn.neighbors import KNeighborsClassifier\n",
        "from sklearn.linear_model import LogisticRegression\n",
        "from sklearn.preprocessing import StandardScaler, LabelEncoder\n",
        "from sklearn.tree  import DecisionTreeClassifier\n",
        "from sklearn.naive_bayes import GaussianNB,MultinomialNB,BernoulliNB\n",
        "from sklearn.metrics import accuracy_score,confusion_matrix,precision_score\n",
        "from sklearn.ensemble import RandomForestClassifier, AdaBoostClassifier, VotingClassifier, GradientBoostingClassifier\n",
        "from sklearn.svm import SVC, LinearSVC\n",
        "from sklearn.naive_bayes import BernoulliNB\n",
        "from sklearn.feature_selection import RFE\n",
        "import itertools\n",
        "from sklearn.ensemble import BaggingClassifier\n",
        "from sklearn.ensemble import ExtraTreesClassifier\n",
        "from xgboost import XGBClassifier\n",
        "from sklearn.metrics import classification_report\n",
        "import warnings\n",
        "warnings.filterwarnings('ignore')"
      ]
    },
    {
      "cell_type": "code",
      "execution_count": null,
      "metadata": {
        "colab": {
          "base_uri": "https://localhost:8080/"
        },
        "id": "A6IrAKgOf0f6",
        "outputId": "1ae18bb5-28c4-42d3-eecc-6616b5eac4b3"
      },
      "outputs": [],
      "source": [
        "pip install xgboost"
      ]
    },
    {
      "cell_type": "code",
      "execution_count": null,
      "metadata": {
        "id": "iYDaThqsf-mE"
      },
      "outputs": [],
      "source": [
        "train1= pd.read_csv('/content/Train_data.csv')"
      ]
    },
    {
      "cell_type": "code",
      "execution_count": null,
      "metadata": {
        "id": "Ftxf2XfWgHsd"
      },
      "outputs": [],
      "source": [
        "train=pd.merge(train1,test,how='outer')"
      ]
    },
    {
      "cell_type": "code",
      "execution_count": null,
      "metadata": {
        "colab": {
          "base_uri": "https://localhost:8080/"
        },
        "id": "OqMO_bVzh86D",
        "outputId": "9e8d985a-ae22-41a6-ee5d-3eef2d42f787"
      },
      "outputs": [],
      "source": [
        "train.info()"
      ]
    },
    {
      "cell_type": "code",
      "execution_count": null,
      "metadata": {
        "colab": {
          "base_uri": "https://localhost:8080/"
        },
        "id": "2k65sXT3iEHo",
        "outputId": "2b8e373e-8386-476e-908f-36a665e9e082"
      },
      "outputs": [],
      "source": [
        "train.shape"
      ]
    },
    {
      "cell_type": "code",
      "execution_count": null,
      "metadata": {
        "colab": {
          "base_uri": "https://localhost:8080/",
          "height": 255
        },
        "id": "ivgGqF0eiEWu",
        "outputId": "1c3184f8-ad29-4de1-db32-c4f5a46b86ca"
      },
      "outputs": [],
      "source": [
        "train.head()\n"
      ]
    },
    {
      "cell_type": "code",
      "execution_count": null,
      "metadata": {
        "colab": {
          "base_uri": "https://localhost:8080/",
          "height": 349
        },
        "id": "cpRUv70UiEiL",
        "outputId": "de135840-4d2c-4ecc-e205-79673e9af00b"
      },
      "outputs": [],
      "source": [
        "train.describe()"
      ]
    },
    {
      "cell_type": "code",
      "execution_count": null,
      "metadata": {
        "colab": {
          "base_uri": "https://localhost:8080/",
          "height": 175
        },
        "id": "4oPbDjYPiElE",
        "outputId": "db88d747-2790-41b9-ef58-72981ccf7044"
      },
      "outputs": [],
      "source": [
        "train.describe(include='object')"
      ]
    },
    {
      "cell_type": "code",
      "execution_count": null,
      "metadata": {
        "colab": {
          "base_uri": "https://localhost:8080/"
        },
        "id": "ZjQZz2jtiEnu",
        "outputId": "c5b9252b-1943-4d46-c178-c755af0fe287"
      },
      "outputs": [],
      "source": [
        "train['class'].value_counts()"
      ]
    },
    {
      "cell_type": "code",
      "execution_count": null,
      "metadata": {
        "colab": {
          "base_uri": "https://localhost:8080/",
          "height": 469
        },
        "id": "-Sb4zKpGiEqN",
        "outputId": "ff757beb-5d77-44d4-d03e-4eb67dd64548"
      },
      "outputs": [],
      "source": [
        "sns.countplot(x=train['class'])"
      ]
    },
    {
      "cell_type": "code",
      "execution_count": null,
      "metadata": {
        "colab": {
          "base_uri": "https://localhost:8080/",
          "height": 406
        },
        "id": "AOw8m3wmiEsx",
        "outputId": "76d137ff-c8a8-41a8-f0e4-9da9651dfb31"
      },
      "outputs": [],
      "source": [
        "plt.pie(train['class'].value_counts(),labels=['normal','anomaly'],autopct=\"%0.2f\")\n",
        "plt.show()"
      ]
    },
    {
      "cell_type": "code",
      "execution_count": null,
      "metadata": {
        "colab": {
          "base_uri": "https://localhost:8080/"
        },
        "id": "cls5XarTiEu8",
        "outputId": "30e7f8ab-e994-4255-b5c8-1fb9b57c86b0"
      },
      "outputs": [],
      "source": [
        "train['protocol_type'].value_counts()"
      ]
    },
    {
      "cell_type": "code",
      "execution_count": null,
      "metadata": {
        "colab": {
          "base_uri": "https://localhost:8080/",
          "height": 467
        },
        "id": "lu9QDRxYiExW",
        "outputId": "c4854140-d36f-4f63-b48a-b49608842e30"
      },
      "outputs": [],
      "source": [
        "sns.countplot(x=train['protocol_type'])"
      ]
    },
    {
      "cell_type": "code",
      "execution_count": null,
      "metadata": {
        "colab": {
          "base_uri": "https://localhost:8080/",
          "height": 406
        },
        "id": "LsaZ2NWXiE0K",
        "outputId": "9c7b4c89-17a1-49c9-acb0-fead8e254a42"
      },
      "outputs": [],
      "source": [
        "plt.pie(train['protocol_type'].value_counts(),labels=['tcp','udp','icmp'],autopct=\"%0.2f\")\n",
        "plt.show()"
      ]
    },
    {
      "cell_type": "code",
      "execution_count": null,
      "metadata": {
        "colab": {
          "base_uri": "https://localhost:8080/",
          "height": 971
        },
        "id": "GYE61ZaaiE3z",
        "outputId": "690dce58-373b-48fa-f1ce-3b0fdc832217"
      },
      "outputs": [],
      "source": [
        "plt.figure(figsize=(40,30))\n",
        "sns.heatmap(train.corr(numeric_only = True))"
      ]
    },
    {
      "cell_type": "code",
      "execution_count": null,
      "metadata": {
        "colab": {
          "base_uri": "https://localhost:8080/"
        },
        "id": "3ILOBx7qjo05",
        "outputId": "76d3ce8f-57aa-4997-9e9a-5385a760daae"
      },
      "outputs": [],
      "source": [
        "train.isnull().sum()"
      ]
    },
    {
      "cell_type": "code",
      "execution_count": null,
      "metadata": {
        "colab": {
          "base_uri": "https://localhost:8080/"
        },
        "id": "rniWuFUojo3h",
        "outputId": "61374e70-5bfd-4e55-a1fd-87dc45f2df52"
      },
      "outputs": [],
      "source": [
        "print(f\"Number of duplicates: {train.duplicated().sum()}\")"
      ]
    },
    {
      "cell_type": "code",
      "execution_count": null,
      "metadata": {
        "id": "urHwmW65g3y0"
      },
      "outputs": [],
      "source": [
        "train=train.drop_duplicates(inplace=False)"
      ]
    },
    {
      "cell_type": "code",
      "execution_count": null,
      "metadata": {
        "colab": {
          "base_uri": "https://localhost:8080/",
          "height": 256
        },
        "id": "vsOe4vTKjo6B",
        "outputId": "0208f960-a14d-45bb-9e10-a370b8300453"
      },
      "outputs": [],
      "source": [
        "train.head()"
      ]
    },
    {
      "cell_type": "code",
      "execution_count": null,
      "metadata": {
        "id": "hM3iVyw5jo8d"
      },
      "outputs": [],
      "source": [
        "label_encoder = LabelEncoder()\n",
        "def le(df):\n",
        "    for col in df.columns:\n",
        "        if df[col].dtype == 'object':\n",
        "                df[col] = label_encoder.fit_transform(df[col])\n",
        "\n",
        "le(train)"
      ]
    },
    {
      "cell_type": "code",
      "execution_count": null,
      "metadata": {
        "colab": {
          "base_uri": "https://localhost:8080/",
          "height": 443
        },
        "id": "9z1lR4iwjo-V",
        "outputId": "b03692e4-9591-401e-c43c-4bc96742387e"
      },
      "outputs": [],
      "source": [
        "train"
      ]
    },
    {
      "cell_type": "code",
      "execution_count": null,
      "metadata": {
        "colab": {
          "base_uri": "https://localhost:8080/"
        },
        "id": "cA7lxncCjpA4",
        "outputId": "335d4da5-039c-4b40-c095-bd65d8c68c11"
      },
      "outputs": [],
      "source": [
        "train['num_outbound_cmds']"
      ]
    },
    {
      "cell_type": "code",
      "execution_count": null,
      "metadata": {
        "id": "KSoDnrxkjpC9"
      },
      "outputs": [],
      "source": [
        "#Drop the redundant feature\n",
        "train.drop(['num_outbound_cmds'], axis=1, inplace=True)"
      ]
    },
    {
      "cell_type": "code",
      "execution_count": null,
      "metadata": {
        "id": "ajXsDzdVjpFd"
      },
      "outputs": [],
      "source": [
        "X = train.drop(['class'], axis=1)\n",
        "y = train['class']\n",
        "rfc = RandomForestClassifier()\n",
        "\n",
        "rfe = RFE(rfc, n_features_to_select=10)\n",
        "rfe = rfe.fit(X, y)\n",
        "\n",
        "feature_map = [(i, v) for i, v in itertools.zip_longest(rfe.get_support(), X.columns)]\n",
        "selected_features = [v for i, v in feature_map if i==True]\n",
        "top_features = pd.DataFrame({'Features': selected_features})\n",
        "top_features.index = top_features.index + 1"
      ]
    },
    {
      "cell_type": "code",
      "execution_count": null,
      "metadata": {
        "colab": {
          "base_uri": "https://localhost:8080/",
          "height": 363
        },
        "id": "aaAz-BEgjpH6",
        "outputId": "d2afe447-e19f-41d8-a056-b0204e1f004c"
      },
      "outputs": [],
      "source": [
        "top_features"
      ]
    },
    {
      "cell_type": "code",
      "execution_count": null,
      "metadata": {
        "id": "ZUPv15NLm25K"
      },
      "outputs": [],
      "source": [
        "X = X[selected_features]\n",
        "scale = StandardScaler()\n",
        "X = scale.fit_transform(X)"
      ]
    },
    {
      "cell_type": "code",
      "execution_count": null,
      "metadata": {
        "id": "MDB1t5WLm28k"
      },
      "outputs": [],
      "source": [
        "X_train,X_test,y_train,y_test = train_test_split(X,y,train_size=0.60,random_state=2)"
      ]
    },
    {
      "cell_type": "code",
      "execution_count": null,
      "metadata": {
        "colab": {
          "background_save": true
        },
        "id": "-h7i7oPmm3Dq",
        "outputId": "e74e0c19-6ee4-49cc-fbfe-04acc7377d6e"
      },
      "outputs": [],
      "source": [
        "svc = SVC(kernel='poly', gamma=1.0)\n",
        "svc.fit(X_train,y_train)\n",
        "y_pred = svc.predict(X_test)\n",
        "report = classification_report(y_test, y_pred)\n",
        "cm = confusion_matrix(y_test, y_pred)\n",
        "print('=============================== Support Vector Machine ==============================')\n",
        "print(\"Accuracy: \", accuracy_score(y_test,y_pred))\n",
        "print(\"Precision: \", precision_score(y_test,y_pred))\n",
        "print(\"Classification Report:\\n\", report)\n",
        "plt.figure(figsize=(6, 4))\n",
        "sns.heatmap(cm, annot=True, fmt='d', cbar=False)\n",
        "plt.xlabel('Predicted')\n",
        "plt.ylabel('True')\n",
        "plt.title(\"Confusion Matrix\")\n",
        "plt.show()"
      ]
    },
    {
      "cell_type": "code",
      "execution_count": null,
      "metadata": {
        "colab": {
          "base_uri": "https://localhost:8080/",
          "height": 391
        },
        "id": "8b3tCdPKm3F9",
        "outputId": "f8aa97bd-6d7b-467a-9ee8-fe4713febd36"
      },
      "outputs": [],
      "source": [
        "knc = KNeighborsClassifier()\n",
        "knc.fit(X_train,y_train)\n",
        "y_pred = knc.predict(X_test)\n",
        "report = classification_report(y_test, y_pred)\n",
        "cm = confusion_matrix(y_test, y_pred)\n",
        "print('============================== K-Neighbors Classifier ==============================')\n",
        "print(\"Accuracy: \", accuracy_score(y_test,y_pred))\n",
        "print(\"Precision: \", precision_score(y_test,y_pred))\n",
        "print(\"Classification Report:\\n\", report)\n",
        "plt.figure(figsize=(6, 4))\n",
        "sns.heatmap(cm, annot=True, fmt='d', cbar=False)\n",
        "plt.xlabel('Predicted')\n",
        "plt.ylabel('Actual')\n",
        "plt.title(\"Confusion Matrix\")\n",
        "plt.show()"
      ]
    },
    {
      "cell_type": "code",
      "execution_count": null,
      "metadata": {
        "colab": {
          "base_uri": "https://localhost:8080/",
          "height": 636
        },
        "id": "92Gi4a_pm3Je",
        "outputId": "cd3b3e28-f0d2-408e-dc1c-7e81af531d94"
      },
      "outputs": [],
      "source": [
        "bnb = BernoulliNB()\n",
        "\n",
        "bnb.fit(X_train,y_train)\n",
        "y_pred = bnb.predict(X_test)\n",
        "report = classification_report(y_test, y_pred)\n",
        "cm = confusion_matrix(y_test, y_pred)\n",
        "print('============================== Naive-Bayes Classifier ==============================')\n",
        "print(\"Accuracy: \", accuracy_score(y_test,y_pred))\n",
        "print(\"Precision: \", precision_score(y_test,y_pred))\n",
        "print(\"Classification Report:\\n\", report)\n",
        "plt.figure(figsize=(6, 4))\n",
        "sns.heatmap(cm, annot=True, fmt='d', cbar=False)\n",
        "plt.xlabel('Predicted')\n",
        "plt.ylabel('Actual')\n",
        "plt.title(\"Confusion Matrix\")\n",
        "plt.show()"
      ]
    },
    {
      "cell_type": "code",
      "execution_count": null,
      "metadata": {
        "colab": {
          "base_uri": "https://localhost:8080/",
          "height": 636
        },
        "id": "eRhgPrgJnaIX",
        "outputId": "22c3c05e-b07b-4d2b-e113-beb309b6e2c4"
      },
      "outputs": [],
      "source": [
        "dtc = DecisionTreeClassifier(max_depth=15,criterion='entropy')\n",
        "dtc.fit(X_train,y_train)\n",
        "y_pred = dtc.predict(X_test)\n",
        "report = classification_report(y_test, y_pred)\n",
        "cm = confusion_matrix(y_test, y_pred)\n",
        "print('============================== Decision-Tree Classifier ==============================')\n",
        "print(\"Accuracy: \", accuracy_score(y_test,y_pred))\n",
        "print(\"Precision: \", precision_score(y_test,y_pred))\n",
        "print(\"Classification Report:\\n\", report)\n",
        "plt.figure(figsize=(6, 4))\n",
        "sns.heatmap(cm, annot=True, fmt='d', cbar=False)\n",
        "plt.xlabel('Predicted')\n",
        "plt.ylabel('Actual')\n",
        "plt.title(\"Confusion Matrix\")\n",
        "plt.show()"
      ]
    },
    {
      "cell_type": "code",
      "execution_count": null,
      "metadata": {
        "colab": {
          "base_uri": "https://localhost:8080/",
          "height": 636
        },
        "id": "oGDfbHpAnaVe",
        "outputId": "17efbd25-c041-4dad-cf2f-66ecd99e9e07"
      },
      "outputs": [],
      "source": [
        "lrc = LogisticRegression()\n",
        "lrc.fit(X_train,y_train)\n",
        "y_pred = lrc.predict(X_test)\n",
        "report = classification_report(y_test, y_pred)\n",
        "cm = confusion_matrix(y_test, y_pred)\n",
        "print('============================== Logistic Regression ==============================')\n",
        "print(\"Accuracy: \", accuracy_score(y_test,y_pred))\n",
        "print(\"Precision: \", precision_score(y_test,y_pred))\n",
        "print(\"Classification Report:\\n\", report)\n",
        "plt.figure(figsize=(6, 4))\n",
        "sns.heatmap(cm, annot=True, fmt='d', cbar=False)\n",
        "plt.xlabel('Predicted')\n",
        "plt.ylabel('Actual')\n",
        "plt.title(\"Confusion Matrix\")\n",
        "plt.show()"
      ]
    },
    {
      "cell_type": "code",
      "execution_count": null,
      "metadata": {
        "colab": {
          "base_uri": "https://localhost:8080/",
          "height": 636
        },
        "id": "Ii3Um25cnah5",
        "outputId": "224d73ae-0fd5-4085-aced-4cde2cf97e5a"
      },
      "outputs": [],
      "source": [
        "rfc = RandomForestClassifier(n_estimators=50, random_state=2)\n",
        "rfc.fit(X_train,y_train)\n",
        "y_pred = rfc.predict(X_test)\n",
        "report = classification_report(y_test, y_pred)\n",
        "cm = confusion_matrix(y_test, y_pred)\n",
        "print('============================== Random Forest Classifier ==============================')\n",
        "print(\"Accuracy: \", accuracy_score(y_test,y_pred))\n",
        "print(\"Precision: \", precision_score(y_test,y_pred))\n",
        "print(\"Classification Report:\\n\", report)\n",
        "plt.figure(figsize=(6, 4))\n",
        "sns.heatmap(cm, annot=True, fmt='d', cbar=False)\n",
        "plt.xlabel('Predicted')\n",
        "plt.ylabel('Actual')\n",
        "plt.title(\"Confusion Matrix\")\n",
        "plt.show()"
      ]
    },
    {
      "cell_type": "code",
      "execution_count": null,
      "metadata": {
        "colab": {
          "base_uri": "https://localhost:8080/",
          "height": 636
        },
        "id": "IJgipAERnyTd",
        "outputId": "cfb90a96-f420-466e-9d41-c07b7afe4291"
      },
      "outputs": [],
      "source": [
        "abc = AdaBoostClassifier(n_estimators=50, random_state=2)\n",
        "abc.fit(X_train,y_train)\n",
        "y_pred = abc.predict(X_test)\n",
        "report = classification_report(y_test, y_pred)\n",
        "cm = confusion_matrix(y_test, y_pred)\n",
        "print('============================== Ada Boost Classifier ==============================')\n",
        "print(\"Accuracy: \", accuracy_score(y_test,y_pred))\n",
        "print(\"Precision: \", precision_score(y_test,y_pred))\n",
        "print(\"Classification Report:\\n\", report)\n",
        "plt.figure(figsize=(6, 4))\n",
        "sns.heatmap(cm, annot=True, fmt='d', cbar=False)\n",
        "plt.xlabel('Predicted')\n",
        "plt.ylabel('Actual')\n",
        "plt.title(\"Confusion Matrix\")\n",
        "plt.show()"
      ]
    },
    {
      "cell_type": "code",
      "execution_count": null,
      "metadata": {
        "colab": {
          "base_uri": "https://localhost:8080/",
          "height": 636
        },
        "id": "GcXoP1grnyV6",
        "outputId": "860ada3a-8be3-484b-9a02-8f5e6619baf1"
      },
      "outputs": [],
      "source": [
        "bc = BaggingClassifier(n_estimators=50, random_state=2)\n",
        "bc.fit(X_train,y_train)\n",
        "y_pred = bc.predict(X_test)\n",
        "report = classification_report(y_test, y_pred)\n",
        "cm = confusion_matrix(y_test, y_pred)\n",
        "print('============================== Bagging Classifier ==============================')\n",
        "print(\"Accuracy: \", accuracy_score(y_test,y_pred))\n",
        "print(\"Precision: \", precision_score(y_test,y_pred))\n",
        "print(\"Classification Report:\\n\", report)\n",
        "plt.figure(figsize=(6, 4))\n",
        "sns.heatmap(cm, annot=True, fmt='d', cbar=False)\n",
        "plt.xlabel('Predicted')\n",
        "plt.ylabel('Actual')\n",
        "plt.title(\"Confusion Matrix\")\n",
        "plt.show()"
      ]
    },
    {
      "cell_type": "code",
      "execution_count": null,
      "metadata": {
        "colab": {
          "base_uri": "https://localhost:8080/",
          "height": 636
        },
        "id": "DhcKEVpInyY4",
        "outputId": "332fdd72-0574-43cb-8b51-8aadbeafb36b"
      },
      "outputs": [],
      "source": [
        "etc = ExtraTreesClassifier(n_estimators=50, random_state=2)\n",
        "etc.fit(X_train,y_train)\n",
        "y_pred = etc.predict(X_test)\n",
        "report = classification_report(y_test, y_pred)\n",
        "cm = confusion_matrix(y_test, y_pred)\n",
        "print('============================== Extra Trees Classifier ==============================')\n",
        "print(\"Accuracy: \", accuracy_score(y_test,y_pred))\n",
        "print(\"Precision: \", precision_score(y_test,y_pred))\n",
        "print(\"Classification Report:\\n\", report)\n",
        "plt.figure(figsize=(6, 4))\n",
        "sns.heatmap(cm, annot=True, fmt='d', cbar=False)\n",
        "plt.xlabel('Predicted')\n",
        "plt.ylabel('Actual')\n",
        "plt.title(\"Confusion Matrix\")\n",
        "plt.show()"
      ]
    },
    {
      "cell_type": "code",
      "execution_count": null,
      "metadata": {
        "colab": {
          "base_uri": "https://localhost:8080/",
          "height": 373
        },
        "id": "WTZrd-AqnycP",
        "outputId": "db3e7ba7-df59-4bb1-e5a8-458a4b0bc7fa"
      },
      "outputs": [],
      "source": [
        "xgb = XGBClassifier(n_estimators=50,random_state=2)\n",
        "xgb.fit(X_train,y_train)\n",
        "y_pred = xgb.predict(test)\n",
        "report = classification_report(test, y_pred)\n",
        "cm = confusion_matrix(test, y_pred)\n",
        "print('============================== Gradient Boosting Classifier ==============================')\n",
        "print(\"Accuracy: \", accuracy_score(y_test,y_pred))\n",
        "print(\"Precision: \", precision_score(y_test,y_pred))\n",
        "print(\"Classification Report:\\n\", report)\n",
        "plt.figure(figsize=(6, 4))\n",
        "sns.heatmap(cm, annot=True, fmt='d', cbar=False)\n",
        "plt.xlabel('Predicted')\n",
        "plt.ylabel('Actual')\n",
        "plt.title(\"Confusion Matrix\")\n",
        "plt.show()"
      ]
    },
    {
      "cell_type": "code",
      "execution_count": null,
      "metadata": {
        "id": "whBqYKZvoOMv"
      },
      "outputs": [],
      "source": [
        "clfs = {\n",
        "    'SVC' : svc,\n",
        "    'KN' : knc,\n",
        "    'NB': bnb,\n",
        "    'DT': dtc,\n",
        "    'LR': lrc,\n",
        "    'RF': rfc,\n",
        "    'AdaBoost': abc,\n",
        "    'BgC': bc,\n",
        "    'ETC': etc,\n",
        "    'xgb':xgb\n",
        "}"
      ]
    },
    {
      "cell_type": "code",
      "execution_count": null,
      "metadata": {
        "id": "D-5N0WGToOUh"
      },
      "outputs": [],
      "source": [
        "from sklearn.metrics import accuracy_score, precision_score, f1_score, recall_score\n",
        "\n",
        "def metrics(clf, X_train, y_train, X_test, y_test):\n",
        "    clf.fit(X_train, y_train)\n",
        "    y_pred = clf.predict(X_test)\n",
        "    accuracy = accuracy_score(y_test, y_pred)\n",
        "    precision = precision_score(y_test, y_pred, average='weighted')\n",
        "    f1 = f1_score(y_test, y_pred, average='weighted')\n",
        "    recall = recall_score(y_test, y_pred, average='weighted')\n",
        "\n",
        "    return accuracy, precision, f1, recall"
      ]
    },
    {
      "cell_type": "code",
      "execution_count": null,
      "metadata": {
        "id": "GvOUHzBDoOXV"
      },
      "outputs": [],
      "source": [
        "accuracy_scores = []\n",
        "precision_scores = []\n",
        "f1_scores = []\n",
        "recall_scores = []\n",
        "\n",
        "for name, clf in clfs.items():\n",
        "    current_accuracy, current_precision, current_f1, current_recall = metrics(clf, X_train, y_train, X_test, y_test)\n",
        "    accuracy_scores.append(current_accuracy)\n",
        "    precision_scores.append(current_precision)\n",
        "    f1_scores.append(current_f1)\n",
        "    recall_scores.append(current_recall)"
      ]
    },
    {
      "cell_type": "code",
      "execution_count": null,
      "metadata": {
        "id": "a3CHx0-QoOag"
      },
      "outputs": [],
      "source": [
        "performance_df = pd.DataFrame({'Algorithm':clfs.keys(),'Accuracy':accuracy_scores,'Precision':precision_scores,'F1-score':f1_scores,'Recall':recall_scores}).sort_values(by='Accuracy', ascending=False).reset_index(drop=True)\n",
        "performance_df.index = performance_df.index + 1"
      ]
    },
    {
      "cell_type": "code",
      "execution_count": null,
      "metadata": {
        "colab": {
          "base_uri": "https://localhost:8080/",
          "height": 363
        },
        "id": "_gfSv4sboOdP",
        "outputId": "ab53436a-8f6e-46d8-f5b6-791c7a727e55"
      },
      "outputs": [],
      "source": [
        "performance_df"
      ]
    },
    {
      "cell_type": "code",
      "execution_count": null,
      "metadata": {
        "colab": {
          "base_uri": "https://localhost:8080/",
          "height": 487
        },
        "id": "0ayZIfuJqjI3",
        "outputId": "25085d32-fb3f-46a6-bb63-e28519d47eab"
      },
      "outputs": [],
      "source": [
        "sns.barplot(performance_df, x='Algorithm', y='Accuracy',palette='dark')\n",
        "plt.xlabel('Algorithms')\n",
        "plt.ylabel('Accuracy')\n",
        "plt.title('Accuracy Scores for Different Algorithms')\n",
        "plt.tight_layout()\n",
        "plt.show()"
      ]
    },
    {
      "cell_type": "code",
      "execution_count": null,
      "metadata": {
        "colab": {
          "base_uri": "https://localhost:8080/",
          "height": 487
        },
        "id": "zg9SDLodqjK3",
        "outputId": "de426068-3f42-4e01-b295-0db23ac34c38"
      },
      "outputs": [],
      "source": [
        "sns.barplot(performance_df, x='Algorithm', y='Precision',palette='dark')\n",
        "plt.xlabel('Algorithms')\n",
        "plt.ylabel('Precision')\n",
        "plt.title('Precision Scores for Different Algorithms')\n",
        "plt.tight_layout()\n",
        "plt.show()"
      ]
    },
    {
      "cell_type": "code",
      "execution_count": null,
      "metadata": {
        "colab": {
          "base_uri": "https://localhost:8080/",
          "height": 487
        },
        "id": "VGbSL3UgqjN-",
        "outputId": "4458487c-4cc0-4526-86ae-2dcd9501f119"
      },
      "outputs": [],
      "source": [
        "sns.barplot(performance_df, x='Algorithm', y='F1-score',palette='dark')\n",
        "plt.xlabel('Algorithms')\n",
        "plt.ylabel('F1-Score')\n",
        "plt.title('F1 Scores for Different Algorithms')\n",
        "plt.tight_layout()\n",
        "plt.show()"
      ]
    },
    {
      "cell_type": "code",
      "execution_count": null,
      "metadata": {
        "colab": {
          "base_uri": "https://localhost:8080/",
          "height": 487
        },
        "id": "rDYwL-pvqjRa",
        "outputId": "7c0cc803-5b66-497d-98ae-03fa227aa949"
      },
      "outputs": [],
      "source": [
        "sns.barplot(performance_df, x='Algorithm', y='Recall',palette='dark')\n",
        "plt.xlabel('Algorithms')\n",
        "plt.ylabel('Recall')\n",
        "plt.title('Recall Scores for Different Algorithms')\n",
        "plt.tight_layout()\n",
        "plt.show()"
      ]
    },
    {
      "cell_type": "code",
      "execution_count": null,
      "metadata": {
        "id": "Stw5wIVWqjW1"
      },
      "outputs": [],
      "source": [
        "test = pd.read_csv('/content/Test_data.csv')"
      ]
    },
    {
      "cell_type": "code",
      "execution_count": null,
      "metadata": {
        "colab": {
          "base_uri": "https://localhost:8080/"
        },
        "id": "FI2nLwwvqjaO",
        "outputId": "d6f3901b-9ee8-4b88-a59c-30929687452d"
      },
      "outputs": [],
      "source": [
        "test.info()"
      ]
    },
    {
      "cell_type": "code",
      "execution_count": null,
      "metadata": {
        "colab": {
          "base_uri": "https://localhost:8080/"
        },
        "id": "DlDA9CGcrBcX",
        "outputId": "96676b03-8588-408c-9bfb-728c1df3fa9c"
      },
      "outputs": [],
      "source": [
        "test.shape"
      ]
    },
    {
      "cell_type": "code",
      "execution_count": null,
      "metadata": {
        "colab": {
          "base_uri": "https://localhost:8080/",
          "height": 255
        },
        "id": "0sM5T3ZlrBf4",
        "outputId": "bb8d17bf-0633-4c12-a118-cc4dd4c859e7"
      },
      "outputs": [],
      "source": [
        "test.head()"
      ]
    },
    {
      "cell_type": "code",
      "execution_count": null,
      "metadata": {
        "colab": {
          "base_uri": "https://localhost:8080/",
          "height": 349
        },
        "id": "RIKwvZyQrBlI",
        "outputId": "b617b380-d2cd-4614-fdf1-fe63f87ddd5b"
      },
      "outputs": [],
      "source": [
        "test.describe()"
      ]
    },
    {
      "cell_type": "code",
      "execution_count": null,
      "metadata": {
        "colab": {
          "base_uri": "https://localhost:8080/"
        },
        "id": "63RgddhrrBti",
        "outputId": "0f7b68a8-4446-44bd-e65a-52a707218644"
      },
      "outputs": [],
      "source": [
        "test['num_outbound_cmds']"
      ]
    },
    {
      "cell_type": "code",
      "execution_count": null,
      "metadata": {
        "id": "VVpqTqZLrSW4"
      },
      "outputs": [],
      "source": [
        "test.drop(['num_outbound_cmds'], axis=1, inplace=True)"
      ]
    },
    {
      "cell_type": "code",
      "execution_count": null,
      "metadata": {
        "colab": {
          "base_uri": "https://localhost:8080/"
        },
        "id": "u3Y0UBBprSg7",
        "outputId": "2128de42-6e28-4ea8-87d9-be13a05b5f81"
      },
      "outputs": [],
      "source": [
        "test.isnull().sum()"
      ]
    },
    {
      "cell_type": "code",
      "execution_count": null,
      "metadata": {
        "colab": {
          "base_uri": "https://localhost:8080/"
        },
        "id": "JWMLQUpErZob",
        "outputId": "a850c086-2dcf-4972-fa93-fac91b4b3161"
      },
      "outputs": [],
      "source": [
        "print(f\"Number of duplicates: {test.duplicated().sum()}\")"
      ]
    },
    {
      "cell_type": "code",
      "execution_count": null,
      "metadata": {
        "id": "YBXQcPfvrZqk"
      },
      "outputs": [],
      "source": [
        "test.drop_duplicates(inplace=True)"
      ]
    },
    {
      "cell_type": "code",
      "execution_count": null,
      "metadata": {
        "colab": {
          "base_uri": "https://localhost:8080/",
          "height": 349
        },
        "id": "566NcVmIrZtI",
        "outputId": "82741274-c6e6-49d4-9af1-34f49f750529"
      },
      "outputs": [],
      "source": [
        "test.describe()"
      ]
    },
    {
      "cell_type": "code",
      "execution_count": null,
      "metadata": {
        "colab": {
          "base_uri": "https://localhost:8080/",
          "height": 175
        },
        "id": "wqyhFHPTrZwE",
        "outputId": "4a5615e3-30f9-46a5-d488-a893d74e9adf"
      },
      "outputs": [],
      "source": [
        "test.describe(include='object')"
      ]
    },
    {
      "cell_type": "code",
      "execution_count": null,
      "metadata": {
        "colab": {
          "base_uri": "https://localhost:8080/",
          "height": 443
        },
        "id": "bUwejdstru8J",
        "outputId": "d68dc0ae-22cb-4ac3-d7f1-b741dfba844b"
      },
      "outputs": [],
      "source": [
        "test"
      ]
    },
    {
      "cell_type": "code",
      "execution_count": null,
      "metadata": {
        "id": "bM4VhgO0ru-N"
      },
      "outputs": [],
      "source": [
        "le(test)"
      ]
    },
    {
      "cell_type": "code",
      "execution_count": null,
      "metadata": {
        "colab": {
          "base_uri": "https://localhost:8080/",
          "height": 443
        },
        "id": "WgKL4i0grvB3",
        "outputId": "7f821d37-0727-4c98-87c6-cc02bd58de68"
      },
      "outputs": [],
      "source": [
        "test"
      ]
    },
    {
      "cell_type": "code",
      "execution_count": null,
      "metadata": {
        "id": "Iyt4a-GDrvFQ"
      },
      "outputs": [],
      "source": [
        "X = test[selected_features]\n",
        "scale = StandardScaler()\n",
        "X_scaled = scale.fit_transform(X)"
      ]
    },
    {
      "cell_type": "code",
      "execution_count": null,
      "metadata": {
        "colab": {
          "base_uri": "https://localhost:8080/"
        },
        "id": "AyaWlU08r-dp",
        "outputId": "34a3f880-cb0e-4fb8-8023-26d988722ffb"
      },
      "outputs": [],
      "source": [
        "dtc.predict(X_scaled)"
      ]
    }
  ],
  "metadata": {
    "colab": {
      "provenance": []
    },
    "kernelspec": {
      "display_name": "Python 3",
      "name": "python3"
    },
    "language_info": {
      "codemirror_mode": {
        "name": "ipython",
        "version": 3
      },
      "file_extension": ".py",
      "mimetype": "text/x-python",
      "name": "python",
      "nbconvert_exporter": "python",
      "pygments_lexer": "ipython3",
      "version": "3.12.4"
    }
  },
  "nbformat": 4,
  "nbformat_minor": 0
}
